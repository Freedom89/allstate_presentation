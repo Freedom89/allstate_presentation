{
 "cells": [
  {
   "cell_type": "markdown",
   "metadata": {
    "slideshow": {
     "slide_type": "slide"
    }
   },
   "source": [
    "<center>\n",
    "<img src = \"https://kaggle2.blob.core.windows.net/competitions/kaggle/5325/logos/front_page.png\">\n",
    "<br>\n",
    "<h1> Low Yi Xiang </h1> </center>\n",
    "\n"
   ]
  },
  {
   "cell_type": "markdown",
   "metadata": {
    "collapsed": false,
    "slideshow": {
     "slide_type": "slide"
    }
   },
   "source": [
    "<h2> Background of me! </h2>\n",
    "\n",
    "- Attendence Guy! \n",
    "- Data Scientist at MSD (Merck) \n",
    "- My free time is used to study, watch youtube, read books\n",
    "\n",
    "<h2>Prior to Kaggle </h2>\n",
    "\n",
    "- Kaggle is not practical for industry (i still feel it's somewhat true) \n",
    "- Will not use Deep Learning (in most cases)\n",
    "- Will not tune the models to the extreme or stacking for 1% (0.1% gain). \n",
    "\n",
    "\n"
   ]
  },
  {
   "cell_type": "markdown",
   "metadata": {
    "slideshow": {
     "slide_type": "slide"
    }
   },
   "source": [
    "\n",
    "<h2> While that is all true... </h2>\n",
    "\n",
    "- Most employers still look for people who exhibit passion in Data Science or Machine Learning. \n",
    "- Happens that Kaggle is one great way to build your portfolio. \n",
    "\n",
    "- People who are in industry (and are much better than i am) still write blogs or present their work in meetups. \n",
    "\n",
    "<h2>Additional insights </h2> \n",
    "\n",
    "- This is my first (serious) Kaggle competition, prior to this i talk to my colleagues or the DSSG organizers about ther competition. **(So i am lucky to have met such people who inspire me in their own way.)**\n",
    "\n",
    "- Thankfully, i managed to achieve top 2%. \n",
    "\n",
    "- It show cases your learning ability and understanding documentation. (I learnt all of these in a month)\n",
    "\n",
    "- Causes you sleepless nights (waiting for your cv score). \n",
    "\n",
    "- I hope to share with you what i learnt in over a month.\n",
    "\n",
    "\n"
   ]
  },
  {
   "cell_type": "markdown",
   "metadata": {
    "slideshow": {
     "slide_type": "slide"
    }
   },
   "source": [
    "<h2> Logistics ... </h2>\n",
    "\n",
    "<p> - All my code can be found in my github page, [Freedom89](https://github.com/Freedom89) and look for the [Allstate_kaggle repo](https://github.com/Freedom89/Allstate_kaggle).\n",
    "\n",
    "<p> -  The full detailed blog post can be found [here](https://freedom89.github.io/Allstate_kaggle/) or refer to the [index.md](https://github.com/Freedom89/Allstate_kaggle/blob/master/index.md) file on the repo. \n",
    "\n",
    "<p> - Questions are welcomed, but I might take them offline if i think your question requires a heavier discussion. \n",
    "\n",
    "<p> - This may feel like i am spamming you with 'tools', in which case i apologize. \n",
    "\n",
    "<p> - Nevertheless, I hope the content would be useful and we might become kaggle teammates in the future! \n"
   ]
  },
  {
   "cell_type": "markdown",
   "metadata": {
    "collapsed": false,
    "slideshow": {
     "slide_type": "slide"
    }
   },
   "source": [
    "<section>\n",
    "    <h2> Contents </h2> \n",
    "    \n",
    "    <p> - Competition background \n",
    "    <p> - Tune Xgb (hyperopt) and find Feature Interactions with Xgbfi \n",
    "    <p> - Feature engineering / Feature transformation\n",
    "    <p> - Customized Objective Function with Xgboost \n",
    "    <p> - Keras (Deep Learning / Neural network) \n",
    "    <p> - Early stopping (Keras), model checkpoint. \n",
    "    <p> - Stacking \n",
    "    <p> - Questions? \n",
    "\n",
    "</section>"
   ]
  },
  {
   "cell_type": "markdown",
   "metadata": {
    "slideshow": {
     "slide_type": "slide"
    }
   },
   "source": [
    "## Competition background \n",
    "\n",
    "<q>In this recruitment challenge, Kagglers are invited to show off their creativity and flex their technical chops by creating an algorithm which accurately predicts claims severity. Aspiring competitors will demonstrate insight into better ways to predict claims severity for the chance to be part of Allstate’s efforts to ensure a worry-free customer experience.</q>\n",
    "\n",
    "- MAE (mean absolute error) \n",
    "- Anonymized Features\n"
   ]
  },
  {
   "cell_type": "markdown",
   "metadata": {
    "slideshow": {
     "slide_type": "slide"
    }
   },
   "source": [
    "## Xgb Interactions\n",
    "\n",
    "- Use [Xgbfi](https://github.com/Far0n/xgbfi) by far0n to find N-way interactions for categorical features \n",
    "\n",
    "|col1|col2|new_feat = col1 + col2|\n",
    "|---|---|---|\n",
    "|A|B|AB|\n",
    "|C|D|CD|\n",
    "\n",
    "- Use this tool to find feature interactions for Regression. \n",
    "\n",
    "## Tuning Xgb \n",
    "\n",
    "- As an alternative to grid search, i have explored using [hyperopt](https://github.com/hyperopt/hyperopt).\n",
    "- [Example of how i used hyperopt for my xgb.](https://github.com/Freedom89/Allstate_kaggle/blob/master/hyperopt_results/hyper_opt_xgb.ipynb)\n",
    "- [Results of hyperopt](https://github.com/Freedom89/Allstate_kaggle/blob/master/hyperopt_results/hyper_opt_power2.csv)\n",
    "    - Start with a relatively higher ETA for hyperopt, find out the 'best' params and lower the ETA for actual training"
   ]
  },
  {
   "cell_type": "markdown",
   "metadata": {
    "collapsed": true,
    "slideshow": {
     "slide_type": "slide"
    }
   },
   "source": [
    "\n",
    "## Feature Engineering - boxcox\n",
    "\n",
    "Other than log the target as well as standardization of input features,\n",
    "\n",
    "Boxcox which aims to provide an automatic way of transforming your (cont) features to make it more even (normal). \n",
    "\n"
   ]
  },
  {
   "cell_type": "code",
   "execution_count": 1,
   "metadata": {
    "collapsed": false,
    "slideshow": {
     "slide_type": "skip"
    }
   },
   "outputs": [],
   "source": [
    "%matplotlib inline\n",
    "from scipy.stats import skew, boxcox\n",
    "import pandas as pd \n",
    "from sklearn.preprocessing import StandardScaler\n",
    "import matplotlib.pyplot as plt\n",
    "import numpy as np\n",
    "import time \n",
    "\n",
    "data = pd.read_csv(\"../kaggle_1/data_prep/input/raw/train.csv\")\n"
   ]
  },
  {
   "cell_type": "code",
   "execution_count": 2,
   "metadata": {
    "collapsed": true,
    "slideshow": {
     "slide_type": "skip"
    }
   },
   "outputs": [],
   "source": [
    "feat_name = 'cont6'\n",
    "ss = StandardScaler()\n",
    "\n",
    "#temp0 = ss.fit_transform(data[feat_name].values.reshape(-1,1))\n",
    "temp0 = data[feat_name]\n",
    "\n",
    "temp = data[feat_name] + 1 #prevent the log of 0 \n",
    "temp, lam = boxcox(temp)\n",
    "#temp = ss.fit_transform(temp.reshape(-1,1))"
   ]
  },
  {
   "cell_type": "code",
   "execution_count": 3,
   "metadata": {
    "collapsed": false,
    "slideshow": {
     "slide_type": "-"
    }
   },
   "outputs": [
    {
     "data": {
      "image/png": "[encoded data removed]",
      "text/plain": [
       "<matplotlib.figure.Figure at 0x110133990>"
      ]
     },
     "metadata": {},
     "output_type": "display_data"
    }
   ],
   "source": [
    "f, axarr = plt.subplots(2, sharex=True)\n",
    "axarr[0].hist(temp0,20);\n",
    "axarr[0].set_title('before');\n",
    "axarr[1].hist(temp,20);\n",
    "axarr[1].set_title('after');"
   ]
  },
  {
   "cell_type": "markdown",
   "metadata": {
    "slideshow": {
     "slide_type": "slide"
    }
   },
   "source": [
    "## Encoding of Categorical features \n",
    "\n",
    "Most common (two) types of encoding (i know),\n",
    "\n",
    "* Label Encoding\n",
    "\n",
    "|col|trans|\n",
    "|---|---|\n",
    "|A|1|\n",
    "|B|2|\n",
    "|C|3|\n",
    "\n",
    "* one - hot encoding\n",
    "\n",
    "|col|is_A|is_B|is_C|\n",
    "|---|---|---|---|---|\n",
    "|A|1|0|0|\n",
    "|B|0|1|0|\n",
    "|C|0|0|1|"
   ]
  },
  {
   "cell_type": "markdown",
   "metadata": {
    "slideshow": {
     "slide_type": "slide"
    }
   },
   "source": [
    "## Lexical Encoding\n",
    "\n",
    "Example:"
   ]
  },
  {
   "cell_type": "code",
   "execution_count": 4,
   "metadata": {
    "collapsed": false,
    "slideshow": {
     "slide_type": "-"
    }
   },
   "outputs": [
    {
     "name": "stdout",
     "output_type": "stream",
     "text": [
      "1\n",
      "2\n",
      "26\n",
      "27\n",
      "28\n"
     ]
    }
   ],
   "source": [
    "def encode(charcode):\n",
    "    r = 0\n",
    "    ln = len(str(charcode))\n",
    "    for i in range(ln):\n",
    "        r += (ord(str(charcode)[i]) - ord('A') + 1) * 26 ** (ln - i - 1)\n",
    "    return r\n",
    "\n",
    "print encode('A')\n",
    "print encode('B')\n",
    "print encode('Z')\n",
    "print encode('AA')\n",
    "print encode('AB')"
   ]
  },
  {
   "cell_type": "markdown",
   "metadata": {
    "slideshow": {
     "slide_type": "slide"
    }
   },
   "source": [
    "## XGBOOST - Learning Task Parameters \n",
    "\n",
    "If you refer to the xgboost parameters documentation [here](https://github.com/dmlc/xgboost/blob/master/doc/parameter.md),\n",
    "\n",
    "Specify the learning task and the corresponding learning objective. The objective options are below:\n",
    "* objective [ default=reg:linear ]\n",
    " - **\"reg:linear\" --linear regression**\n",
    " - \"reg:logistic\" --logistic regression\n",
    " - \"binary:logistic\" --logistic regression for binary classification, output probability\n",
    " - \"binary:logitraw\" --logistic regression for binary classification, output score before logistic transformation\n",
    " - \"count:poisson\" --poisson regression for count data, output mean of poisson distribution\n",
    "   - max_delta_step is set to 0.7 by default in poisson regression (used to safeguard optimization)\n",
    " - \"multi:softmax\" --set XGBoost to do multiclass classification using the softmax objective, you also need to set num_class(number of classes)\n",
    "\n",
    " - ... \n",
    "\n"
   ]
  },
  {
   "cell_type": "markdown",
   "metadata": {
    "slideshow": {
     "slide_type": "slide"
    }
   },
   "source": [
    "## Xgb - Eval\n",
    "\n",
    "* eval_metric [ default according to objective ]\n",
    "    - \"rmse\": [root mean square error](http://en.wikipedia.org/wiki/Root_mean_square_error)\n",
    "    - **\"mae\"**: [mean absolute error](https://en.wikipedia.org/wiki/Mean_absolute_error)\n",
    "    - \"logloss\": negative [log-likelihood](http://en.wikipedia.org/wiki/Log-likelihood)\n",
    "    - \"error\": Binary classification error rate. It is calculated as #(wrong cases)/#(all cases). For the predictions, the evaluation will regard the instances with prediction value larger than 0.5 as positive instances, and the others as negative instances.\n",
    "    - ... "
   ]
  },
  {
   "cell_type": "markdown",
   "metadata": {
    "slideshow": {
     "slide_type": "slide"
    }
   },
   "source": [
    "## XGB \n",
    "The learning objective as 'Linear' while the evaluation metric is 'mae', what can we do?\n",
    "### Additional Math:\n",
    "It turns out that when you are optimizing for Mean Squared Error, finding the **Mean** optimizes the error.\n",
    "If you are optimizing for mean absolute error, finding the **Median** optimizes the error. Example:"
   ]
  },
  {
   "cell_type": "code",
   "execution_count": 5,
   "metadata": {
    "collapsed": false,
    "slideshow": {
     "slide_type": "-"
    }
   },
   "outputs": [
    {
     "name": "stdout",
     "output_type": "stream",
     "text": [
      "The mean is:  1000.3960478\n",
      "The median is:  694.0\n",
      "The error by using mean is:  735.784095754\n",
      "The error by using median is:  693.1531646\n",
      "increasing 1 point from median:  693.1539714\n",
      "decreasing 1 point from median:  693.1533366\n"
     ]
    }
   ],
   "source": [
    "np.random.seed(1337);size = 5000000\n",
    "vector = np.random.exponential(size=size);vector = np.ceil(vector*1000)\n",
    "def mean_mae(x_hat,size = size):return np.sum(np.absolute(vector-x_hat))/size\n",
    "print 'The mean is: ' , np.mean(vector)\n",
    "print 'The median is: ' , np.median(vector)\n",
    "print 'The error by using mean is: ' , mean_mae(np.mean(vector))\n",
    "print 'The error by using median is: ' ,mean_mae(np.median(vector))\n",
    "print 'increasing 1 point from median: ' ,mean_mae(np.median(vector)+1)\n",
    "print 'decreasing 1 point from median: ' ,mean_mae(np.median(vector)-1)"
   ]
  },
  {
   "cell_type": "markdown",
   "metadata": {
    "slideshow": {
     "slide_type": "slide"
    }
   },
   "source": [
    "## Gradient Descent  of L1 and L2 "
   ]
  },
  {
   "cell_type": "code",
   "execution_count": 6,
   "metadata": {
    "collapsed": false,
    "slideshow": {
     "slide_type": "-"
    }
   },
   "outputs": [],
   "source": [
    "class L1(object):\n",
    "    def __init__(self,vector,size,guess):  \n",
    "        self.vector = vector\n",
    "        self.guess = guess\n",
    "        self.size = size\n",
    "    def jacob(self):\n",
    "        return np.sum(np.sign((self.vector-self.guess)))/self.size\n",
    "    \n",
    "class L2(object):\n",
    "    def __init__(self,vector,size,guess):  \n",
    "        self.vector = vector\n",
    "        self.guess = guess\n",
    "        self.size = size\n",
    "    def jacob(self):\n",
    "        return np.sum(self.vector-self.guess)/self.size"
   ]
  },
  {
   "cell_type": "markdown",
   "metadata": {
    "slideshow": {
     "slide_type": "slide"
    }
   },
   "source": [
    "## L1 gradient descent\n",
    "Note that it takes close to 50 seconds"
   ]
  },
  {
   "cell_type": "code",
   "execution_count": 7,
   "metadata": {
    "collapsed": false
   },
   "outputs": [
    {
     "name": "stdout",
     "output_type": "stream",
     "text": [
      "The gradient is : -0.030957  with value: 725\n",
      "The gradient is : -0.02076  with value: 714.724892\n",
      "The gradient is : -0.0137276  with value: 707.806204\n",
      "The gradient is : -0.0097468  with value: 703.1710776\n",
      "The gradient is : -0.0067868  with value: 700.0471752\n",
      "The gradient is : -0.0038096  with value: 697.945108\n",
      "The gradient is : -0.0028124  with value: 696.5688536\n",
      "The gradient is : -0.001808  with value: 695.640756\n",
      "The gradient is : -0.0008068  with value: 694.9616088\n",
      "The gradient is : -0.0008068  with value: 694.6388888\n",
      "The output is:  694.3161688\n",
      "The time taken is, :  52.4540681839\n"
     ]
    }
   ],
   "source": [
    "initial_guess = 725\n",
    "learning_rate = 4\n",
    "L1_descent = L1(vector,size,initial_guess)\n",
    "start = time.time()\n",
    "for i in range(1000):\n",
    "    \n",
    "    if i % 100 == 0:\n",
    "        print 'The gradient is :', L1_descent.jacob(), ' with value:' , initial_guess\n",
    "    next_guess = initial_guess + learning_rate*L1_descent.jacob()\n",
    "    initial_guess = next_guess\n",
    "    L1_descent = L1(vector,size,next_guess)\n",
    "print 'The output is: ', next_guess\n",
    "print 'The time taken is, : ', time.time() - start \n",
    "#the mean is:  1000.3960478 the median is:  694.0"
   ]
  },
  {
   "cell_type": "markdown",
   "metadata": {
    "slideshow": {
     "slide_type": "slide"
    }
   },
   "source": [
    "## L2 gradient descent\n",
    "Much faster! "
   ]
  },
  {
   "cell_type": "code",
   "execution_count": 8,
   "metadata": {
    "collapsed": false
   },
   "outputs": [
    {
     "name": "stdout",
     "output_type": "stream",
     "text": [
      "The gradient is : 275.3960478  with value: 725\n",
      "The gradient is : 1.41932932335  with value: 998.976718477\n",
      "The gradient is : 0.00731490427759  with value: 1000.3887329\n",
      "The output is:  1000.3960101\n",
      "The time taken is, :  2.32211899757\n"
     ]
    }
   ],
   "source": [
    "initial_guess = 725\n",
    "learning_rate = 0.1\n",
    "L2_descent = L2(vector,size,initial_guess)\n",
    "start = time.time()\n",
    "for i in range(150):\n",
    "    if i % 50 ==  0:\n",
    "        print 'The gradient is :', L2_descent.jacob(), ' with value:' , initial_guess\n",
    "        \n",
    "    next_guess = initial_guess + learning_rate*L2_descent.jacob()\n",
    "    initial_guess = next_guess\n",
    "    L2_descent = L2(vector,size,next_guess)\n",
    "print 'The output is: ', next_guess\n",
    "print 'The time taken is, : ', time.time() - start \n",
    "#the mean is:  1000.3960478 the median is:  694.0"
   ]
  },
  {
   "cell_type": "markdown",
   "metadata": {
    "slideshow": {
     "slide_type": "slide"
    }
   },
   "source": [
    "## L2 gradient descent with log-transformed features \n",
    "\n",
    "Recall that L2 penalizes more for points far away from the mean, while mae penalizes equally throughout.\n",
    "\n",
    "In that case, we can transform the features with log."
   ]
  },
  {
   "cell_type": "code",
   "execution_count": 9,
   "metadata": {
    "collapsed": false
   },
   "outputs": [
    {
     "name": "stdout",
     "output_type": "stream",
     "text": [
      "The mean is:  1000.3960478\n",
      "The median is:  694.0\n",
      "The log mean is 6.33421520082 the exp of the log mean is: 563.526973894\n",
      "The error by using mean is:  735.784095754\n",
      "The error by using median is:  693.1531646\n",
      "The error by using log-mean is:  702.006505008\n"
     ]
    }
   ],
   "source": [
    "np.random.seed(1337);size = 5000000\n",
    "vector = np.random.exponential(size=size);vector = np.ceil(vector*1000)\n",
    "print 'The mean is: ' , np.mean(vector)\n",
    "print 'The median is: ' , np.median(vector)\n",
    "print 'The log mean is', np.mean(np.log(vector)), 'the exp of the log mean is:' , np.exp(np.mean(np.log(vector))) \n",
    "print 'The error by using mean is: ' , mean_mae(np.mean(vector))\n",
    "print 'The error by using median is: ' ,mean_mae(np.median(vector))\n",
    "vector_log = np.log(vector);mean_vector_log = np.exp(np.mean(vector_log))\n",
    "print 'The error by using log-mean is: ' ,mean_mae(mean_vector_log)"
   ]
  },
  {
   "cell_type": "markdown",
   "metadata": {
    "slideshow": {
     "slide_type": "slide"
    }
   },
   "source": [
    "## L2 gradient descent with log-transformed features\n"
   ]
  },
  {
   "cell_type": "code",
   "execution_count": 10,
   "metadata": {
    "collapsed": false,
    "slideshow": {
     "slide_type": "-"
    }
   },
   "outputs": [
    {
     "name": "stdout",
     "output_type": "stream",
     "text": [
      "The gradient is : -3.66578479918  with value: 10\n",
      "The gradient is : -0.0188926308134  with value: 6.35310783164\n",
      "The gradient is : -9.73683722883e-05  with value: 6.3343125692\n",
      "The output is:  6.33421570264\n",
      "The time taken is, :  12.1206140518\n"
     ]
    }
   ],
   "source": [
    "initial_guess = 10\n",
    "learning_rate = 0.1\n",
    "L2_descent = L2(np.log(vector),size,initial_guess)\n",
    "start = time.time()\n",
    "for i in range(150):\n",
    "    if i % 50 ==  0:\n",
    "        print 'The gradient is :', L2_descent.jacob(), ' with value:' , initial_guess\n",
    "        \n",
    "    next_guess = initial_guess + learning_rate*L2_descent.jacob()\n",
    "    initial_guess = next_guess\n",
    "    L2_descent = L2(np.log(vector),size,next_guess)\n",
    "    \n",
    "print 'The output is: ', next_guess\n",
    "print 'The time taken is, : ', time.time() - start \n",
    "#the mean is:  1000.3960478 the median is:  694.0 the log mean is 6.33421520082"
   ]
  },
  {
   "cell_type": "markdown",
   "metadata": {
    "collapsed": false,
    "slideshow": {
     "slide_type": "slide"
    }
   },
   "source": [
    "## Another example\n",
    "\n",
    "Notice that calculating the median is almost 20 times slower!"
   ]
  },
  {
   "cell_type": "code",
   "execution_count": 11,
   "metadata": {
    "collapsed": false
   },
   "outputs": [
    {
     "name": "stdout",
     "output_type": "stream",
     "text": [
      "the mean is:  1000.3960478\n",
      "0.00437903404236\n",
      "the median is:  694.0\n",
      "0.0667219161987\n"
     ]
    }
   ],
   "source": [
    "clock1 = time.time()\n",
    "print 'the mean is: ', np.mean(vector)\n",
    "print time.time() - clock1\n",
    "\n",
    "clock2 = time.time()\n",
    "print 'the median is: ', np.median(vector)\n",
    "print time.time() - clock2"
   ]
  },
  {
   "cell_type": "markdown",
   "metadata": {
    "slideshow": {
     "slide_type": "slide"
    }
   },
   "source": [
    "## Conclusion\n",
    "\n",
    "Optimizing by MAE is still the best option! But there is no obejctive for MAE, what do we do?\n",
    "\n",
    "For those who are familar, you may know that $y = |x|$ is not differentiable at $x=0$. \n",
    "\n",
    "As seen from the following graph, when performing gradient descent is going to be very tricky.\n"
   ]
  },
  {
   "cell_type": "code",
   "execution_count": 12,
   "metadata": {
    "collapsed": false
   },
   "outputs": [
    {
     "data": {
      "image/png": "[encoded data removed]",
      "text/plain": [
       "<matplotlib.figure.Figure at 0x106244d90>"
      ]
     },
     "metadata": {},
     "output_type": "display_data"
    }
   ],
   "source": [
    "x = np.arange(-1,1,0.001)\n",
    "f, (ax1, ax2,ax3) = plt.subplots(3, 1, sharex=True)\n",
    "ax1.plot(x,np.abs(x)); ax1.set_title('function')\n",
    "ax2.plot(x,np.sign(x),color = 'r'); ax2.set_title('Jacob')\n",
    "ax3.plot(x,1/np.abs(x),color = 'g'); ax3.set_title('Hessian');\n"
   ]
  },
  {
   "cell_type": "markdown",
   "metadata": {
    "slideshow": {
     "slide_type": "slide"
    }
   },
   "source": [
    "## Numercial approximation \n",
    "\n",
    "I will skip the details but it turns out that there is a very nice function called the `fair` function that 'smooths' the gradient of the MAE function. \n",
    "\n",
    "Function = $c^2 [\\frac{|x|}{c} - log(1+\\frac{|x|}{c}]$, Jacob = $\\frac{x}{1+\\frac{|x|}{c}}$, Hess = $\\frac{1}{1+\\frac{|x|}{c}}$ \n",
    "\n",
    "\n",
    "If you are still interested, click [here](http://research.microsoft.com/en-us/um/people/zhang/INRIA/Publis/Tutorial-Estim/node24.html).\n",
    "\n",
    "Lets define the code for the fair function:"
   ]
  },
  {
   "cell_type": "code",
   "execution_count": 13,
   "metadata": {
    "collapsed": false
   },
   "outputs": [],
   "source": [
    "class fair_obj(object):\n",
    "    def __init__(self,vector,c=2):\n",
    "        self.vector = vector\n",
    "        self.c = c\n",
    "    def func(self):\n",
    "        c = self.c\n",
    "        abs_x_c = np.abs(self.vector) / c\n",
    "        return((c**2)*(abs_x_c - np.log(1+abs_x_c)))\n",
    "    def jacob(self):\n",
    "        c = self.c\n",
    "        abs_x_c = np.abs(self.vector) / c\n",
    "        return(x / (1+abs_x_c))\n",
    "    def hess(self):\n",
    "        c = self.c\n",
    "        abs_x_c = np.abs(self.vector) / c\n",
    "        return(1 / (1+abs_x_c))"
   ]
  },
  {
   "cell_type": "markdown",
   "metadata": {
    "slideshow": {
     "slide_type": "slide"
    }
   },
   "source": [
    "## Visualizing the fair function"
   ]
  },
  {
   "cell_type": "code",
   "execution_count": 14,
   "metadata": {
    "collapsed": false,
    "slideshow": {
     "slide_type": "-"
    }
   },
   "outputs": [
    {
     "data": {
      "text/plain": [
       "<matplotlib.text.Text at 0x110c6bf90>"
      ]
     },
     "execution_count": 14,
     "metadata": {},
     "output_type": "execute_result"
    },
    {
     "data": {
      "image/png": "[encoded data removed]",
      "text/plain": [
       "<matplotlib.figure.Figure at 0x110b3b550>"
      ]
     },
     "metadata": {},
     "output_type": "display_data"
    }
   ],
   "source": [
    "x = np.arange(-1,1,0.001)\n",
    "y = fair_obj(x,0.1)\n",
    "f, (ax1, ax2,ax3) = plt.subplots(3, 1, sharex=True)\n",
    "ax1.plot(x,y.func()); ax1.set_title('function')\n",
    "ax2.plot(x,y.jacob(),color = 'r'); ax2.set_title('Jacob')\n",
    "ax3.plot(x,y.hess(),color = 'g'); ax3.set_title('Hessian')\n"
   ]
  },
  {
   "cell_type": "markdown",
   "metadata": {
    "slideshow": {
     "slide_type": "slide"
    }
   },
   "source": [
    "## Fair function\n",
    "\n",
    "Notice that there is a parameter within the fair function `c`. The smaller the value of c, the closer it approximates the `MAE` function. Suppose we increase `0.1` to `1` instead:\n",
    "\n",
    "<font color = 'red'> You can probably notice that the higher the 'c' parameter is, the smoother the computation and hence lesser training time at the cost of accuracy. </font>"
   ]
  },
  {
   "cell_type": "code",
   "execution_count": 15,
   "metadata": {
    "collapsed": false,
    "slideshow": {
     "slide_type": "-"
    }
   },
   "outputs": [
    {
     "data": {
      "image/png": "[encoded data removed]",
      "text/plain": [
       "<matplotlib.figure.Figure at 0x110f20a90>"
      ]
     },
     "metadata": {},
     "output_type": "display_data"
    }
   ],
   "source": [
    "x = np.arange(-1,1,0.001)\n",
    "y = fair_obj(x,1)\n",
    "f, (ax1, ax2,ax3) = plt.subplots(3, 1, sharex=True)\n",
    "ax1.plot(x,y.func()); ax1.set_title('function')\n",
    "ax2.plot(x,y.jacob(),color = 'r'); ax2.set_title('Jacob')\n",
    "ax3.plot(x,y.hess(),color = 'g'); ax3.set_title('Hessian');\n"
   ]
  },
  {
   "cell_type": "markdown",
   "metadata": {
    "collapsed": true,
    "slideshow": {
     "slide_type": "slide"
    }
   },
   "source": [
    "## Fair function in xgb\n",
    "\n",
    "So how do i do this with XGB? Start by defining the fair objective:\n",
    "\n",
    "```python\n",
    "\n",
    "def fair_obj(preds, dtrain):\n",
    "    fair_constant = 2\n",
    "    labels = dtrain.get_label()\n",
    "    x = (preds - labels)\n",
    "    den = abs(x) + fair_constant\n",
    "    grad = fair_constant * x / (den)\n",
    "    hess = fair_constant * fair_constant / (den * den)\n",
    "    return grad, hess\n",
    "    \n",
    "```"
   ]
  },
  {
   "cell_type": "markdown",
   "metadata": {
    "slideshow": {
     "slide_type": "slide"
    }
   },
   "source": [
    "## Fair function in xgb\n",
    "\n",
    "And feed it inside `xgb.train`:\n",
    "\n",
    "```python\n",
    "xgb.train(params,\n",
    "            d_train,\n",
    "            100000,\n",
    "            watchlist,\n",
    "            early_stopping_rounds=early_stop,\n",
    "            obj=fair_obj,\n",
    "            eval_metric='mse')\n",
    "```            \n",
    "            "
   ]
  },
  {
   "cell_type": "markdown",
   "metadata": {},
   "source": [
    "## Results so far\n",
    "\n",
    "- With a few variants of my Xgboost and (weighted) averaging them, i (initially) got into top 10%.\n",
    "\n",
    "- Unfortunately within no time at all i was on the verge of getting kick out of 10%, and there were no further improvements possible (based on the fourms) from Xgb.\n",
    "\n",
    "- Many people in the fourms suggested Neural Networks ** which i have absolutely no experience or knowledge ** other than the ones i did on MOOCS!\n",
    "\n",
    "- The idea is to use two different models so that they can 'look out' for each other. "
   ]
  },
  {
   "cell_type": "markdown",
   "metadata": {
    "slideshow": {
     "slide_type": "slide"
    }
   },
   "source": [
    "# Neural Networks! \n",
    "\n",
    "My first ever Deep neural network! (Outside Moocs)"
   ]
  },
  {
   "cell_type": "markdown",
   "metadata": {
    "slideshow": {
     "slide_type": "slide"
    }
   },
   "source": [
    "## Neural Networks\n",
    "\n",
    "It turns out to be really easy to build Neural Networks with `Keras`:\n",
    "\n",
    "```python\n",
    "def nn_model():\n",
    "    model = Sequential()\n",
    "    \n",
    "    model.add(Dense(400, input_dim = xtrain.shape[1], init = 'he_normal'))\n",
    "    model.add(PReLU())\n",
    "    model.add(BatchNormalization())\n",
    "    model.add(Dropout(0.4))\n",
    "        \n",
    "    model.add(Dense(200, init = 'he_normal'))\n",
    "    model.add(PReLU())\n",
    "    model.add(BatchNormalization())    \n",
    "    model.add(Dropout(0.2))\n",
    "    \n",
    "    model.add(Dense(100, init = 'he_normal'))\n",
    "    model.add(PReLU())\n",
    "    model.add(BatchNormalization())    \n",
    "    model.add(Dropout(0.2))\n",
    "    \n",
    "    model.add(Dense(50, init = 'he_normal'))\n",
    "    model.add(PReLU())\n",
    "    model.add(BatchNormalization())    \n",
    "    model.add(Dropout(0.2))\n",
    "    \n",
    "    model.add(Dense(1, init = 'he_normal'))\n",
    "    model.compile(loss = 'mae', optimizer = 'adadelta',metrics=[mae])\n",
    "    return(model)\n",
    "```"
   ]
  },
  {
   "cell_type": "markdown",
   "metadata": {
    "slideshow": {
     "slide_type": "slide"
    }
   },
   "source": [
    "## Training and tuning NN. \n",
    "\n",
    "- One simple improvement (or quick win) is to bag the neural networks. \n",
    "\n",
    "- However with my mac book pro, it would still take (40*55*10 = 22000 seconds) 6.1 hours just for training one model alone! \n",
    "\n",
    "- Bagging it 10 times would take close to 3 days which is roughly what the fourms reported. \n",
    "\n",
    "- Each fold required ~ 33 minutes approx which also made it very hard to iterate different features. \n"
   ]
  },
  {
   "cell_type": "markdown",
   "metadata": {
    "slideshow": {
     "slide_type": "slide"
    }
   },
   "source": [
    "## Training NN on AWS (CUDA) \n",
    "\n",
    "- There were about 10-12 remaining days into the competition.\n",
    "- No choice but to learn how to set up GPU instances on AWS. (Spend slightly over a day to figured it out) \n",
    "- Wrote my own small tutorial [here].\n",
    "(https://github.com/Freedom89/aws_configure/blob/master/AWS_ec2_deep_learning_stack.md)\n",
    "\n",
    "\n",
    "## Huge Mistake (Oversight)\n",
    "\n",
    "After setting up Theano and CUDA with CUDNN, i forgot to set the [cnmem] parameter.\n",
    "\n",
    "What it does essentially it forces the system to allocate the gpu memory to the application you are using. Below is basically a summary of run-times:\n",
    "\n",
    "|Type|Mac|AWS C4.6x|Theano|Theano w cnmem|\n",
    "|---|---|---|---|---|---|\n",
    "|Time|40-44|24-28|18|12|\n",
    "\n"
   ]
  },
  {
   "cell_type": "markdown",
   "metadata": {
    "slideshow": {
     "slide_type": "slide"
    }
   },
   "source": [
    "## Early Stopping of Neural Networks \n",
    "\n",
    "```python\n",
    "\n",
    "model = nn_model()\n",
    "\n",
    "callsback_list = [EarlyStopping(patience=10),\\\n",
    "          ModelCheckpoint('keras-regressor-' + str(i+1) +'_'+ str(j+1) + '.check'\\\n",
    "                          , monitor='val_loss', save_best_only=True, verbose=0)]\n",
    "\n",
    "fit = model.fit_generator(generator = batch_generator(xtr, ytr, 128, True),\n",
    "                          nb_epoch = nepochs,\n",
    "                          samples_per_epoch = xtr.shape[0],\n",
    "                          verbose = 0,\n",
    "                          validation_data=(xte.todense(),yte),\n",
    "                          callbacks=callsback_list)       \n",
    "\n",
    "fit = load_model('keras-regressor-' + str(i+1) + '_'+ str(j+1) + '.check')\n",
    "```\n",
    "        \n"
   ]
  },
  {
   "cell_type": "code",
   "execution_count": null,
   "metadata": {
    "collapsed": true
   },
   "outputs": [],
   "source": []
  }
 ],
 "metadata": {
  "celltoolbar": "Slideshow",
  "kernelspec": {
   "display_name": "Python 2",
   "language": "python",
   "name": "python2"
  },
  "language_info": {
   "codemirror_mode": {
    "name": "ipython",
    "version": 2
   },
   "file_extension": ".py",
   "mimetype": "text/x-python",
   "name": "python",
   "nbconvert_exporter": "python",
   "pygments_lexer": "ipython2",
   "version": "2.7.11"
  }
 },
 "nbformat": 4,
 "nbformat_minor": 0
}
