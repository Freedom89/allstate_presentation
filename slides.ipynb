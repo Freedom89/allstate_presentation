{
 "cells": [
  {
   "cell_type": "markdown",
   "metadata": {
    "slideshow": {
     "slide_type": "slide"
    }
   },
   "source": [
    "<center>\n",
    "<img src = \"https://kaggle2.blob.core.windows.net/competitions/kaggle/5325/logos/front_page.png\">\n",
    "<br>\n",
    "<h1> Low Yi Xiang </h1> </center>\n",
    "\n"
   ]
  },
  {
   "cell_type": "markdown",
   "metadata": {
    "collapsed": false,
    "slideshow": {
     "slide_type": "slide"
    }
   },
   "source": [
    "<h2> Background of me! </h2>\n",
    "\n",
    "- Attendence Guy for DSSG (I hope to retire one day).\n",
    "- Junior Data Scientist in Singapore.\n",
    "- Studied Statistics (my friends would disagree) from NTU. \n",
    "\n",
    "<h2>Prior to Kaggle </h2>\n",
    "\n",
    "- Kaggle is not practical for industry (i still feel it's somewhat true) \n",
    "- Will not use Deep Learning (in most cases)\n",
    "- Will not tune the models to the extreme or stacking for 1% (0.1% gain). \n",
    "\n",
    "\n"
   ]
  },
  {
   "cell_type": "markdown",
   "metadata": {
    "slideshow": {
     "slide_type": "slide"
    }
   },
   "source": [
    "\n",
    "<h2> While that is all true... </h2>\n",
    "\n",
    "- Most employers still look for people who exhibit passion in Data Science or Machine Learning. \n",
    "- Happens that Kaggle is one great way to build your portfolio. \n",
    "\n",
    "- People who are in industry (and are much better than i am) still write blogs or present their work in meetups. \n",
    "\n",
    "<h2>Additional insights </h2> \n",
    "\n",
    "- This is my first (serious) Kaggle competition, prior to this i talk to my colleagues or the DSSG organizers about ther competition. **(So i am lucky to have met such people who inspire me in their own way.)**\n",
    "\n",
    "- Thankfully, i managed to achieve top 2%. \n",
    "\n",
    "- It showcases your learning capacity and ability to understand documentation. (I learnt all of these in a month)\n",
    "\n",
    "- Causes you sleepless nights (waiting for your cv score). "
   ]
  },
  {
   "cell_type": "markdown",
   "metadata": {
    "slideshow": {
     "slide_type": "slide"
    }
   },
   "source": [
    "<h2> Logistics ... </h2>\n",
    "\n",
    "<p> - All my code can be found in my github page, [Freedom89](https://github.com/Freedom89) and look for the [Allstate_kaggle repo](https://github.com/Freedom89/Allstate_kaggle).\n",
    "\n",
    "<p> -  The full detailed blog post can be found [here](https://freedom89.github.io/Allstate_kaggle/) or refer to the [index.md](https://github.com/Freedom89/Allstate_kaggle/blob/master/index.md) file on the repo. \n",
    "\n",
    "<p> - Questions are welcomed, but I might take them offline if i think your question requires a heavier discussion. \n",
    "\n",
    "<p> - This may feel like i am spamming you with 'tools', in which case i apologize. \n",
    "\n",
    "<p> - Nevertheless, I hope the content would be useful and we might become kaggle teammates in the future! \n"
   ]
  },
  {
   "cell_type": "markdown",
   "metadata": {
    "slideshow": {
     "slide_type": "slide"
    }
   },
   "source": [
    "<section>\n",
    "    <h1> Contents </h1> \n",
    "    \n",
    "    <p> - Competition \n",
    "    <p> - Features \n",
    "    <p> - Xgboost \n",
    "    <p> - Keras\n",
    "    <p> - Stacking \n",
    "\n",
    "</section>"
   ]
  },
  {
   "cell_type": "code",
   "execution_count": 1,
   "metadata": {
    "collapsed": false,
    "slideshow": {
     "slide_type": "skip"
    }
   },
   "outputs": [],
   "source": [
    "%matplotlib inline\n",
    "from scipy.stats import skew, boxcox\n",
    "import pandas as pd \n",
    "from sklearn.preprocessing import StandardScaler\n",
    "import matplotlib.pyplot as plt\n",
    "import numpy as np\n",
    "import time \n",
    "\n",
    "data = pd.read_csv(\"../kaggle_1/data_prep/input/raw/train.csv\")\n"
   ]
  },
  {
   "cell_type": "markdown",
   "metadata": {
    "slideshow": {
     "slide_type": "slide"
    }
   },
   "source": [
    "## Competition "
   ]
  },
  {
   "cell_type": "markdown",
   "metadata": {
    "slideshow": {
     "slide_type": "slide"
    }
   },
   "source": [
    "## Competition - background \n",
    "\n",
    "<q>In this recruitment challenge, Kagglers are invited to show off their creativity and flex their technical chops by creating an algorithm which accurately predicts claims severity. Aspiring competitors will demonstrate insight into better ways to predict claims severity for the chance to be part of Allstate’s efforts to ensure a worry-free customer experience.</q>\n",
    "\n",
    "- MAE (mean absolute error) \n",
    "- Anonymized Features\n"
   ]
  },
  {
   "cell_type": "markdown",
   "metadata": {
    "slideshow": {
     "slide_type": "slide"
    }
   },
   "source": [
    "## Competition - Data "
   ]
  },
  {
   "cell_type": "code",
   "execution_count": 2,
   "metadata": {
    "collapsed": false
   },
   "outputs": [
    {
     "data": {
      "text/html": [
       "<div>\n",
       "<table border=\"1\" class=\"dataframe\">\n",
       "  <thead>\n",
       "    <tr style=\"text-align: right;\">\n",
       "      <th></th>\n",
       "      <th>id</th>\n",
       "      <th>cat1</th>\n",
       "      <th>cat2</th>\n",
       "      <th>cat3</th>\n",
       "      <th>cat4</th>\n",
       "      <th>cat5</th>\n",
       "      <th>cat6</th>\n",
       "      <th>cat7</th>\n",
       "      <th>cat8</th>\n",
       "      <th>cat9</th>\n",
       "      <th>...</th>\n",
       "      <th>cont6</th>\n",
       "      <th>cont7</th>\n",
       "      <th>cont8</th>\n",
       "      <th>cont9</th>\n",
       "      <th>cont10</th>\n",
       "      <th>cont11</th>\n",
       "      <th>cont12</th>\n",
       "      <th>cont13</th>\n",
       "      <th>cont14</th>\n",
       "      <th>loss</th>\n",
       "    </tr>\n",
       "  </thead>\n",
       "  <tbody>\n",
       "    <tr>\n",
       "      <th>0</th>\n",
       "      <td>1</td>\n",
       "      <td>A</td>\n",
       "      <td>B</td>\n",
       "      <td>A</td>\n",
       "      <td>B</td>\n",
       "      <td>A</td>\n",
       "      <td>A</td>\n",
       "      <td>A</td>\n",
       "      <td>A</td>\n",
       "      <td>B</td>\n",
       "      <td>...</td>\n",
       "      <td>0.718367</td>\n",
       "      <td>0.335060</td>\n",
       "      <td>0.30260</td>\n",
       "      <td>0.67135</td>\n",
       "      <td>0.83510</td>\n",
       "      <td>0.569745</td>\n",
       "      <td>0.594646</td>\n",
       "      <td>0.822493</td>\n",
       "      <td>0.714843</td>\n",
       "      <td>2213.18</td>\n",
       "    </tr>\n",
       "    <tr>\n",
       "      <th>1</th>\n",
       "      <td>2</td>\n",
       "      <td>A</td>\n",
       "      <td>B</td>\n",
       "      <td>A</td>\n",
       "      <td>A</td>\n",
       "      <td>A</td>\n",
       "      <td>A</td>\n",
       "      <td>A</td>\n",
       "      <td>A</td>\n",
       "      <td>B</td>\n",
       "      <td>...</td>\n",
       "      <td>0.438917</td>\n",
       "      <td>0.436585</td>\n",
       "      <td>0.60087</td>\n",
       "      <td>0.35127</td>\n",
       "      <td>0.43919</td>\n",
       "      <td>0.338312</td>\n",
       "      <td>0.366307</td>\n",
       "      <td>0.611431</td>\n",
       "      <td>0.304496</td>\n",
       "      <td>1283.60</td>\n",
       "    </tr>\n",
       "    <tr>\n",
       "      <th>2</th>\n",
       "      <td>5</td>\n",
       "      <td>A</td>\n",
       "      <td>B</td>\n",
       "      <td>A</td>\n",
       "      <td>A</td>\n",
       "      <td>B</td>\n",
       "      <td>A</td>\n",
       "      <td>A</td>\n",
       "      <td>A</td>\n",
       "      <td>B</td>\n",
       "      <td>...</td>\n",
       "      <td>0.289648</td>\n",
       "      <td>0.315545</td>\n",
       "      <td>0.27320</td>\n",
       "      <td>0.26076</td>\n",
       "      <td>0.32446</td>\n",
       "      <td>0.381398</td>\n",
       "      <td>0.373424</td>\n",
       "      <td>0.195709</td>\n",
       "      <td>0.774425</td>\n",
       "      <td>3005.09</td>\n",
       "    </tr>\n",
       "    <tr>\n",
       "      <th>3</th>\n",
       "      <td>10</td>\n",
       "      <td>B</td>\n",
       "      <td>B</td>\n",
       "      <td>A</td>\n",
       "      <td>B</td>\n",
       "      <td>A</td>\n",
       "      <td>A</td>\n",
       "      <td>A</td>\n",
       "      <td>A</td>\n",
       "      <td>B</td>\n",
       "      <td>...</td>\n",
       "      <td>0.440945</td>\n",
       "      <td>0.391128</td>\n",
       "      <td>0.31796</td>\n",
       "      <td>0.32128</td>\n",
       "      <td>0.44467</td>\n",
       "      <td>0.327915</td>\n",
       "      <td>0.321570</td>\n",
       "      <td>0.605077</td>\n",
       "      <td>0.602642</td>\n",
       "      <td>939.85</td>\n",
       "    </tr>\n",
       "    <tr>\n",
       "      <th>4</th>\n",
       "      <td>11</td>\n",
       "      <td>A</td>\n",
       "      <td>B</td>\n",
       "      <td>A</td>\n",
       "      <td>B</td>\n",
       "      <td>A</td>\n",
       "      <td>A</td>\n",
       "      <td>A</td>\n",
       "      <td>A</td>\n",
       "      <td>B</td>\n",
       "      <td>...</td>\n",
       "      <td>0.178193</td>\n",
       "      <td>0.247408</td>\n",
       "      <td>0.24564</td>\n",
       "      <td>0.22089</td>\n",
       "      <td>0.21230</td>\n",
       "      <td>0.204687</td>\n",
       "      <td>0.202213</td>\n",
       "      <td>0.246011</td>\n",
       "      <td>0.432606</td>\n",
       "      <td>2763.85</td>\n",
       "    </tr>\n",
       "  </tbody>\n",
       "</table>\n",
       "<p>5 rows × 132 columns</p>\n",
       "</div>"
      ],
      "text/plain": [
       "   id cat1 cat2 cat3 cat4 cat5 cat6 cat7 cat8 cat9   ...        cont6  \\\n",
       "0   1    A    B    A    B    A    A    A    A    B   ...     0.718367   \n",
       "1   2    A    B    A    A    A    A    A    A    B   ...     0.438917   \n",
       "2   5    A    B    A    A    B    A    A    A    B   ...     0.289648   \n",
       "3  10    B    B    A    B    A    A    A    A    B   ...     0.440945   \n",
       "4  11    A    B    A    B    A    A    A    A    B   ...     0.178193   \n",
       "\n",
       "      cont7    cont8    cont9   cont10    cont11    cont12    cont13  \\\n",
       "0  0.335060  0.30260  0.67135  0.83510  0.569745  0.594646  0.822493   \n",
       "1  0.436585  0.60087  0.35127  0.43919  0.338312  0.366307  0.611431   \n",
       "2  0.315545  0.27320  0.26076  0.32446  0.381398  0.373424  0.195709   \n",
       "3  0.391128  0.31796  0.32128  0.44467  0.327915  0.321570  0.605077   \n",
       "4  0.247408  0.24564  0.22089  0.21230  0.204687  0.202213  0.246011   \n",
       "\n",
       "     cont14     loss  \n",
       "0  0.714843  2213.18  \n",
       "1  0.304496  1283.60  \n",
       "2  0.774425  3005.09  \n",
       "3  0.602642   939.85  \n",
       "4  0.432606  2763.85  \n",
       "\n",
       "[5 rows x 132 columns]"
      ]
     },
     "execution_count": 2,
     "metadata": {},
     "output_type": "execute_result"
    }
   ],
   "source": [
    "data.head(5)"
   ]
  },
  {
   "cell_type": "markdown",
   "metadata": {
    "slideshow": {
     "slide_type": "slide"
    }
   },
   "source": [
    "## Features"
   ]
  },
  {
   "cell_type": "markdown",
   "metadata": {
    "slideshow": {
     "slide_type": "slide"
    }
   },
   "source": [
    "## Features - Xgb Interactions\n",
    "\n",
    "- Use [Xgbfi](https://github.com/Far0n/xgbfi) by far0n to find N-way interactions for categorical features \n",
    "\n",
    "|col1|col2|new_feat = col1 + col2|\n",
    "|---|---|---|\n",
    "|A|B|AB|\n",
    "|C|D|CD|\n",
    "\n",
    "- Use this tool to find feature interactions for Regression. \n",
    "\n",
    "## Tuning Xgb \n",
    "\n",
    "- As an alternative to grid search, i have explored using [hyperopt](https://github.com/hyperopt/hyperopt).\n",
    "- [Example of how i used hyperopt for my xgb.](https://github.com/Freedom89/Allstate_kaggle/blob/master/hyperopt_results/hyper_opt_xgb.ipynb)\n",
    "- [Results of hyperopt](https://github.com/Freedom89/Allstate_kaggle/blob/master/hyperopt_results/hyper_opt_power2.csv)\n",
    "    - Start with a relatively higher ETA for hyperopt, find out the 'best' params and lower the ETA for actual training"
   ]
  },
  {
   "cell_type": "markdown",
   "metadata": {
    "collapsed": true,
    "slideshow": {
     "slide_type": "slide"
    }
   },
   "source": [
    "\n",
    "## Features - Feature Engineering ( boxcox )\n",
    "\n",
    "Other than log the target as well as standardization of input features,\n",
    "\n",
    "Boxcox which aims to provide an automatic way of transforming your (cont) features to make it more even (normal). \n",
    "\n"
   ]
  },
  {
   "cell_type": "code",
   "execution_count": 3,
   "metadata": {
    "collapsed": true,
    "slideshow": {
     "slide_type": "skip"
    }
   },
   "outputs": [],
   "source": [
    "feat_name = 'cont6'\n",
    "ss = StandardScaler()\n",
    "\n",
    "#temp0 = ss.fit_transform(data[feat_name].values.reshape(-1,1))\n",
    "temp0 = data[feat_name]\n",
    "\n",
    "temp = data[feat_name] + 1 #prevent the log of 0 \n",
    "temp, lam = boxcox(temp)\n",
    "#temp = ss.fit_transform(temp.reshape(-1,1))"
   ]
  },
  {
   "cell_type": "code",
   "execution_count": 4,
   "metadata": {
    "collapsed": false,
    "slideshow": {
     "slide_type": "-"
    }
   },
   "outputs": [
    {
     "data": {
      "image/png": "[encoded data removed]",
      "text/plain": [
       "<matplotlib.figure.Figure at 0x1101ae290>"
      ]
     },
     "metadata": {},
     "output_type": "display_data"
    }
   ],
   "source": [
    "f, axarr = plt.subplots(2, sharex=True)\n",
    "axarr[0].hist(temp0,20);\n",
    "axarr[0].set_title('before');\n",
    "axarr[1].hist(temp,20);\n",
    "axarr[1].set_title('after');"
   ]
  },
  {
   "cell_type": "markdown",
   "metadata": {
    "slideshow": {
     "slide_type": "slide"
    }
   },
   "source": [
    "## Features - Encoding of Categorical features \n",
    "\n",
    "Most common (two) types of encoding (i know),\n",
    "\n",
    "* Label Encoding\n",
    "\n",
    "|col|trans|\n",
    "|---|---|\n",
    "|A|1|\n",
    "|B|2|\n",
    "|C|3|\n",
    "\n",
    "* one - hot encoding\n",
    "\n",
    "|col|is_A|is_B|is_C|\n",
    "|---|---|---|---|---|\n",
    "|A|1|0|0|\n",
    "|B|0|1|0|\n",
    "|C|0|0|1|"
   ]
  },
  {
   "cell_type": "markdown",
   "metadata": {
    "slideshow": {
     "slide_type": "slide"
    }
   },
   "source": [
    "##  Features - Lexical Encoding\n",
    "\n",
    "Example:"
   ]
  },
  {
   "cell_type": "code",
   "execution_count": 5,
   "metadata": {
    "collapsed": false,
    "slideshow": {
     "slide_type": "-"
    }
   },
   "outputs": [
    {
     "name": "stdout",
     "output_type": "stream",
     "text": [
      "1\n",
      "2\n",
      "26\n",
      "27\n",
      "28\n"
     ]
    }
   ],
   "source": [
    "def encode(charcode):\n",
    "    r = 0\n",
    "    ln = len(str(charcode))\n",
    "    for i in range(ln):\n",
    "        r += (ord(str(charcode)[i]) - ord('A') + 1) * 26 ** (ln - i - 1)\n",
    "    return r\n",
    "\n",
    "print encode('A')\n",
    "print encode('B')\n",
    "print encode('Z')\n",
    "print encode('AA')\n",
    "print encode('AB')"
   ]
  },
  {
   "cell_type": "markdown",
   "metadata": {
    "slideshow": {
     "slide_type": "slide"
    }
   },
   "source": [
    "# XGBOOST"
   ]
  },
  {
   "cell_type": "markdown",
   "metadata": {
    "slideshow": {
     "slide_type": "slide"
    }
   },
   "source": [
    "## XGBOOST - Understanding Learning Task Parameters \n",
    "\n",
    "If you refer to the xgboost parameters documentation [here](https://github.com/dmlc/xgboost/blob/master/doc/parameter.md),\n",
    "\n",
    "Specify the learning task and the corresponding learning objective. The objective options are below:\n",
    "* objective [ default=reg:linear ]\n",
    " - **\"reg:linear\" --linear regression**\n",
    " - \"reg:logistic\" --logistic regression\n",
    " - \"binary:logistic\" --logistic regression for binary classification, output probability\n",
    " - \"binary:logitraw\" --logistic regression for binary classification, output score before logistic transformation\n",
    " - \"count:poisson\" --poisson regression for count data, output mean of poisson distribution\n",
    "   - max_delta_step is set to 0.7 by default in poisson regression (used to safeguard optimization)\n",
    " - \"multi:softmax\" --set XGBoost to do multiclass classification using the softmax objective, you also need to set num_class(number of classes)\n",
    "\n",
    " - ... \n",
    "\n"
   ]
  },
  {
   "cell_type": "markdown",
   "metadata": {
    "slideshow": {
     "slide_type": "slide"
    }
   },
   "source": [
    "## XGBOOST - Understanding Eval\n",
    "\n",
    "* eval_metric [ default according to objective ]\n",
    "    - \"rmse\": [root mean square error](http://en.wikipedia.org/wiki/Root_mean_square_error)\n",
    "    - **\"mae\"**: [mean absolute error](https://en.wikipedia.org/wiki/Mean_absolute_error)\n",
    "    - \"logloss\": negative [log-likelihood](http://en.wikipedia.org/wiki/Log-likelihood)\n",
    "    - \"error\": Binary classification error rate. It is calculated as #(wrong cases)/#(all cases). For the predictions, the evaluation will regard the instances with prediction value larger than 0.5 as positive instances, and the others as negative instances.\n",
    "    - ... "
   ]
  },
  {
   "cell_type": "markdown",
   "metadata": {
    "slideshow": {
     "slide_type": "slide"
    }
   },
   "source": [
    "## XGBOOST - Problem! \n",
    "The learning objective as 'Linear' while the evaluation metric is 'mae', what can we do?\n",
    "### Additional Math:\n",
    "It turns out that when you are optimizing for Mean Squared Error, finding the **Mean** optimizes the error.\n",
    "If you are optimizing for mean absolute error, finding the **Median** optimizes the error. Example:"
   ]
  },
  {
   "cell_type": "code",
   "execution_count": 6,
   "metadata": {
    "collapsed": false,
    "slideshow": {
     "slide_type": "-"
    }
   },
   "outputs": [
    {
     "name": "stdout",
     "output_type": "stream",
     "text": [
      "The mean is:  1000.3960478\n",
      "The median is:  694.0\n",
      "The error by using mean is:  735.784095754\n",
      "The error by using median is:  693.1531646\n",
      "increasing 1 point from median:  693.1539714\n",
      "decreasing 1 point from median:  693.1533366\n"
     ]
    }
   ],
   "source": [
    "np.random.seed(1337);size = 5000000\n",
    "vector = np.random.exponential(size=size);vector = np.ceil(vector*1000)\n",
    "def mean_mae(x_hat,size = size):return np.sum(np.absolute(vector-x_hat))/size\n",
    "print 'The mean is: ' , np.mean(vector)\n",
    "print 'The median is: ' , np.median(vector)\n",
    "print 'The error by using mean is: ' , mean_mae(np.mean(vector))\n",
    "print 'The error by using median is: ' ,mean_mae(np.median(vector))\n",
    "print 'increasing 1 point from median: ' ,mean_mae(np.median(vector)+1)\n",
    "print 'decreasing 1 point from median: ' ,mean_mae(np.median(vector)-1)"
   ]
  },
  {
   "cell_type": "markdown",
   "metadata": {
    "slideshow": {
     "slide_type": "slide"
    }
   },
   "source": [
    "## XGBOOST - Gradient Descent  of L1 and L2 "
   ]
  },
  {
   "cell_type": "code",
   "execution_count": 7,
   "metadata": {
    "collapsed": false,
    "slideshow": {
     "slide_type": "-"
    }
   },
   "outputs": [],
   "source": [
    "class L1(object):\n",
    "    def __init__(self,vector,size,guess):  \n",
    "        self.vector = vector\n",
    "        self.guess = guess\n",
    "        self.size = size\n",
    "    def jacob(self):\n",
    "        return np.sum(np.sign((self.vector-self.guess)))/self.size\n",
    "    \n",
    "class L2(object):\n",
    "    def __init__(self,vector,size,guess):  \n",
    "        self.vector = vector\n",
    "        self.guess = guess\n",
    "        self.size = size\n",
    "    def jacob(self):\n",
    "        return np.sum(self.vector-self.guess)/self.size"
   ]
  },
  {
   "cell_type": "markdown",
   "metadata": {
    "slideshow": {
     "slide_type": "slide"
    }
   },
   "source": [
    "## XGBOOST - L1 gradient descent\n",
    "Note that it takes close to 50 seconds"
   ]
  },
  {
   "cell_type": "code",
   "execution_count": 8,
   "metadata": {
    "collapsed": false
   },
   "outputs": [
    {
     "name": "stdout",
     "output_type": "stream",
     "text": [
      "The gradient is : -0.030957  with value: 725\n",
      "The gradient is : -0.02076  with value: 714.724892\n",
      "The gradient is : -0.0137276  with value: 707.806204\n",
      "The gradient is : -0.0097468  with value: 703.1710776\n",
      "The gradient is : -0.0067868  with value: 700.0471752\n",
      "The gradient is : -0.0038096  with value: 697.945108\n",
      "The gradient is : -0.0028124  with value: 696.5688536\n",
      "The gradient is : -0.001808  with value: 695.640756\n",
      "The gradient is : -0.0008068  with value: 694.9616088\n",
      "The gradient is : -0.0008068  with value: 694.6388888\n",
      "The output is:  694.3161688\n",
      "The time taken is, :  49.7573640347\n"
     ]
    }
   ],
   "source": [
    "initial_guess = 725\n",
    "learning_rate = 4\n",
    "L1_descent = L1(vector,size,initial_guess)\n",
    "start = time.time()\n",
    "for i in range(1000):\n",
    "    \n",
    "    if i % 100 == 0:\n",
    "        print 'The gradient is :', L1_descent.jacob(), ' with value:' , initial_guess\n",
    "    next_guess = initial_guess + learning_rate*L1_descent.jacob()\n",
    "    initial_guess = next_guess\n",
    "    L1_descent = L1(vector,size,next_guess)\n",
    "print 'The output is: ', next_guess\n",
    "print 'The time taken is, : ', time.time() - start \n",
    "#the mean is:  1000.3960478 the median is:  694.0"
   ]
  },
  {
   "cell_type": "markdown",
   "metadata": {
    "slideshow": {
     "slide_type": "slide"
    }
   },
   "source": [
    "## XGBOOST - L2 gradient descent\n",
    "Much faster! "
   ]
  },
  {
   "cell_type": "code",
   "execution_count": 9,
   "metadata": {
    "collapsed": false
   },
   "outputs": [
    {
     "name": "stdout",
     "output_type": "stream",
     "text": [
      "The gradient is : 275.3960478  with value: 725\n",
      "The gradient is : 1.41932932335  with value: 998.976718477\n",
      "The gradient is : 0.00731490427759  with value: 1000.3887329\n",
      "The output is:  1000.3960101\n",
      "The time taken is, :  2.02755618095\n"
     ]
    }
   ],
   "source": [
    "initial_guess = 725\n",
    "learning_rate = 0.1\n",
    "L2_descent = L2(vector,size,initial_guess)\n",
    "start = time.time()\n",
    "for i in range(150):\n",
    "    if i % 50 ==  0:\n",
    "        print 'The gradient is :', L2_descent.jacob(), ' with value:' , initial_guess\n",
    "        \n",
    "    next_guess = initial_guess + learning_rate*L2_descent.jacob()\n",
    "    initial_guess = next_guess\n",
    "    L2_descent = L2(vector,size,next_guess)\n",
    "print 'The output is: ', next_guess\n",
    "print 'The time taken is, : ', time.time() - start \n",
    "#the mean is:  1000.3960478 the median is:  694.0"
   ]
  },
  {
   "cell_type": "markdown",
   "metadata": {
    "slideshow": {
     "slide_type": "slide"
    }
   },
   "source": [
    "## XGBOOST - L2 gradient descent with log-transformed features \n",
    "\n",
    "Recall that L2 penalizes more for points far away from the mean, while mae penalizes equally throughout.\n",
    "\n",
    "In that case, we can transform the features with log."
   ]
  },
  {
   "cell_type": "code",
   "execution_count": 10,
   "metadata": {
    "collapsed": false
   },
   "outputs": [
    {
     "name": "stdout",
     "output_type": "stream",
     "text": [
      "The mean is:  1000.3960478\n",
      "The median is:  694.0\n",
      "The log mean is 6.33421520082 the exp of the log mean is: 563.526973894\n",
      "The error by using mean is:  735.784095754\n",
      "The error by using median is:  693.1531646\n",
      "The error by using log-mean is:  702.006505008\n"
     ]
    }
   ],
   "source": [
    "np.random.seed(1337);size = 5000000\n",
    "vector = np.random.exponential(size=size);vector = np.ceil(vector*1000)\n",
    "print 'The mean is: ' , np.mean(vector)\n",
    "print 'The median is: ' , np.median(vector)\n",
    "print 'The log mean is', np.mean(np.log(vector)), 'the exp of the log mean is:' , np.exp(np.mean(np.log(vector))) \n",
    "print 'The error by using mean is: ' , mean_mae(np.mean(vector))\n",
    "print 'The error by using median is: ' ,mean_mae(np.median(vector))\n",
    "vector_log = np.log(vector);mean_vector_log = np.exp(np.mean(vector_log))\n",
    "print 'The error by using log-mean is: ' ,mean_mae(mean_vector_log)"
   ]
  },
  {
   "cell_type": "markdown",
   "metadata": {
    "slideshow": {
     "slide_type": "slide"
    }
   },
   "source": [
    "## XGBOOST - L2 gradient descent with log-transformed features\n"
   ]
  },
  {
   "cell_type": "code",
   "execution_count": 11,
   "metadata": {
    "collapsed": false,
    "slideshow": {
     "slide_type": "-"
    }
   },
   "outputs": [
    {
     "name": "stdout",
     "output_type": "stream",
     "text": [
      "The gradient is : -3.66578479918  with value: 10\n",
      "The gradient is : -0.0188926308134  with value: 6.35310783164\n",
      "The gradient is : -9.73683722883e-05  with value: 6.3343125692\n",
      "The output is:  6.33421570264\n",
      "The time taken is, :  8.58931088448\n"
     ]
    }
   ],
   "source": [
    "initial_guess = 10\n",
    "learning_rate = 0.1\n",
    "L2_descent = L2(np.log(vector),size,initial_guess)\n",
    "start = time.time()\n",
    "for i in range(150):\n",
    "    if i % 50 ==  0:\n",
    "        print 'The gradient is :', L2_descent.jacob(), ' with value:' , initial_guess\n",
    "        \n",
    "    next_guess = initial_guess + learning_rate*L2_descent.jacob()\n",
    "    initial_guess = next_guess\n",
    "    L2_descent = L2(np.log(vector),size,next_guess)\n",
    "    \n",
    "print 'The output is: ', next_guess\n",
    "print 'The time taken is, : ', time.time() - start \n",
    "#the mean is:  1000.3960478 the median is:  694.0 the log mean is 6.33421520082"
   ]
  },
  {
   "cell_type": "markdown",
   "metadata": {
    "collapsed": false,
    "slideshow": {
     "slide_type": "slide"
    }
   },
   "source": [
    "## XGBOOST - Another example\n",
    "\n",
    "Notice that calculating the median is almost 20 times slower!"
   ]
  },
  {
   "cell_type": "code",
   "execution_count": 12,
   "metadata": {
    "collapsed": false
   },
   "outputs": [
    {
     "name": "stdout",
     "output_type": "stream",
     "text": [
      "the mean is:  1000.3960478\n",
      "0.00365710258484\n",
      "the median is:  694.0\n",
      "0.0586512088776\n"
     ]
    }
   ],
   "source": [
    "clock1 = time.time()\n",
    "print 'the mean is: ', np.mean(vector)\n",
    "print time.time() - clock1\n",
    "\n",
    "clock2 = time.time()\n",
    "print 'the median is: ', np.median(vector)\n",
    "print time.time() - clock2"
   ]
  },
  {
   "cell_type": "markdown",
   "metadata": {
    "slideshow": {
     "slide_type": "slide"
    }
   },
   "source": [
    "## XGBOOST - Conclusion\n",
    "\n",
    "Optimizing by MAE is still the best option! But there is no obejctive for MAE, what do we do?\n",
    "\n",
    "For those who are familar, you may know that $y = |x|$ is not differentiable at $x=0$. \n",
    "\n",
    "As seen from the following graph, when performing gradient descent is going to be very tricky.\n"
   ]
  },
  {
   "cell_type": "code",
   "execution_count": 13,
   "metadata": {
    "collapsed": false
   },
   "outputs": [
    {
     "data": {
      "image/png": "[encoded data removed]",
      "text/plain": [
       "<matplotlib.figure.Figure at 0x110407150>"
      ]
     },
     "metadata": {},
     "output_type": "display_data"
    }
   ],
   "source": [
    "x = np.arange(-1,1,0.001)\n",
    "f, (ax1, ax2,ax3) = plt.subplots(3, 1, sharex=True)\n",
    "ax1.plot(x,np.abs(x)); ax1.set_title('function')\n",
    "ax2.plot(x,np.sign(x),color = 'r'); ax2.set_title('Jacob')\n",
    "ax3.plot(x,1/np.abs(x),color = 'g'); ax3.set_title('Hessian');\n"
   ]
  },
  {
   "cell_type": "markdown",
   "metadata": {
    "slideshow": {
     "slide_type": "slide"
    }
   },
   "source": [
    "## XGBOOST - Numercial approximation \n",
    "\n",
    "I will skip the details but it turns out that there is a very nice function called the `fair` function that 'smooths' the gradient of the MAE function. \n",
    "\n",
    "Function = $c^2 [\\frac{|x|}{c} - log(1+\\frac{|x|}{c}]$, Jacob = $\\frac{x}{1+\\frac{|x|}{c}}$, Hess = $\\frac{1}{1+\\frac{|x|}{c}}$ \n",
    "\n",
    "\n",
    "If you are still interested, click [here](http://research.microsoft.com/en-us/um/people/zhang/INRIA/Publis/Tutorial-Estim/node24.html).\n",
    "\n",
    "Lets define the code for the fair function:"
   ]
  },
  {
   "cell_type": "code",
   "execution_count": 14,
   "metadata": {
    "collapsed": false
   },
   "outputs": [],
   "source": [
    "class fair_obj(object):\n",
    "    def __init__(self,vector,c=2):\n",
    "        self.vector = vector\n",
    "        self.c = c\n",
    "    def func(self):\n",
    "        c = self.c\n",
    "        abs_x_c = np.abs(self.vector) / c\n",
    "        return((c**2)*(abs_x_c - np.log(1+abs_x_c)))\n",
    "    def jacob(self):\n",
    "        c = self.c\n",
    "        abs_x_c = np.abs(self.vector) / c\n",
    "        return(x / (1+abs_x_c))\n",
    "    def hess(self):\n",
    "        c = self.c\n",
    "        abs_x_c = np.abs(self.vector) / c\n",
    "        return(1 / (1+abs_x_c))"
   ]
  },
  {
   "cell_type": "markdown",
   "metadata": {
    "slideshow": {
     "slide_type": "slide"
    }
   },
   "source": [
    "## XGBOOST - Visualizing the fair function"
   ]
  },
  {
   "cell_type": "code",
   "execution_count": 15,
   "metadata": {
    "collapsed": false,
    "slideshow": {
     "slide_type": "-"
    }
   },
   "outputs": [
    {
     "data": {
      "text/plain": [
       "<matplotlib.text.Text at 0x110e2b750>"
      ]
     },
     "execution_count": 15,
     "metadata": {},
     "output_type": "execute_result"
    },
    {
     "data": {
      "image/png": "[encoded data removed]",
      "text/plain": [
       "<matplotlib.figure.Figure at 0x110bf1d50>"
      ]
     },
     "metadata": {},
     "output_type": "display_data"
    }
   ],
   "source": [
    "x = np.arange(-5,5,0.001)\n",
    "y = fair_obj(x,0.1)\n",
    "f, (ax1, ax2,ax3) = plt.subplots(3, 1, sharex=True)\n",
    "ax1.plot(x,y.func()); ax1.set_title('function')\n",
    "ax2.plot(x,y.jacob(),color = 'r'); ax2.set_title('Jacob')\n",
    "ax3.plot(x,y.hess(),color = 'g'); ax3.set_title('Hessian')\n"
   ]
  },
  {
   "cell_type": "markdown",
   "metadata": {
    "slideshow": {
     "slide_type": "slide"
    }
   },
   "source": [
    "## XGBOOST - Fair function\n",
    "\n",
    "Notice that there is a parameter within the fair function `c`. The smaller the value of c, the closer it approximates the `MAE` function. Suppose we increase `0.1` to `1` instead:\n",
    "\n",
    "** You can probably notice that the higher the 'c' parameter is, the smoother the computation and hence lesser training time at the cost of accuracy. **"
   ]
  },
  {
   "cell_type": "code",
   "execution_count": 16,
   "metadata": {
    "collapsed": false,
    "slideshow": {
     "slide_type": "-"
    }
   },
   "outputs": [
    {
     "data": {
      "image/png": "[encoded data removed]",
      "text/plain": [
       "<matplotlib.figure.Figure at 0x11071c190>"
      ]
     },
     "metadata": {},
     "output_type": "display_data"
    }
   ],
   "source": [
    "x = np.arange(-1,1,0.001)\n",
    "y = fair_obj(x,1)\n",
    "f, (ax1, ax2,ax3) = plt.subplots(3, 1, sharex=True)\n",
    "ax1.plot(x,y.func()); ax1.set_title('function')\n",
    "ax2.plot(x,y.jacob(),color = 'r'); ax2.set_title('Jacob')\n",
    "ax3.plot(x,y.hess(),color = 'g'); ax3.set_title('Hessian');\n"
   ]
  },
  {
   "cell_type": "markdown",
   "metadata": {
    "collapsed": true,
    "slideshow": {
     "slide_type": "slide"
    }
   },
   "source": [
    "## XGBOOST - Fair function in xgb\n",
    "\n",
    "So how do i do this with XGB? Start by defining the fair objective:\n",
    "\n",
    "```python\n",
    "\n",
    "def fair_obj(preds, dtrain):\n",
    "    fair_constant = 2\n",
    "    labels = dtrain.get_label()\n",
    "    x = (preds - labels)\n",
    "    den = abs(x) + fair_constant\n",
    "    grad = fair_constant * x / (den)\n",
    "    hess = fair_constant * fair_constant / (den * den)\n",
    "    return grad, hess\n",
    "    \n",
    "```"
   ]
  },
  {
   "cell_type": "markdown",
   "metadata": {
    "slideshow": {
     "slide_type": "slide"
    }
   },
   "source": [
    "## XGBOOST - Fair function in xgb\n",
    "\n",
    "And feed it inside `xgb.train`:\n",
    "\n",
    "```python\n",
    "xgb.train(params,\n",
    "            d_train,\n",
    "            100000,\n",
    "            watchlist,\n",
    "            early_stopping_rounds=early_stop,\n",
    "            obj=fair_obj,\n",
    "            eval_metric='mse')\n",
    "```            \n",
    "            "
   ]
  },
  {
   "cell_type": "markdown",
   "metadata": {
    "slideshow": {
     "slide_type": "slide"
    }
   },
   "source": [
    "## Results so far\n",
    "\n",
    "- With a few variants of my Xgboost and (weighted) averaging them, i (initially) got into top 10%.\n",
    "\n",
    "- Unfortunately within no time at all i was on the verge of getting kick out of 10%, and there were no further improvements possible (based on the fourms) from Xgb.\n",
    "\n",
    "- Many people in the fourms suggested Neural Networks ** which i have absolutely no experience or knowledge ** other than the ones i did on MOOCS!\n",
    "\n",
    "- The idea is to use two different models so that they can 'look out' for each other. "
   ]
  },
  {
   "cell_type": "markdown",
   "metadata": {
    "slideshow": {
     "slide_type": "slide"
    }
   },
   "source": [
    "# Neural Networks! \n",
    "\n",
    "My first ever Deep neural network! (Outside Moocs)"
   ]
  },
  {
   "cell_type": "markdown",
   "metadata": {
    "slideshow": {
     "slide_type": "slide"
    }
   },
   "source": [
    "## Neural Networks - Building one with Keras \n",
    "\n",
    "It turns out to be really easy to build Neural Networks with `Keras`:\n",
    "\n",
    "```python\n",
    "def nn_model():\n",
    "    model = Sequential()\n",
    "    \n",
    "    model.add(Dense(400, input_dim = xtrain.shape[1], init = 'he_normal'))\n",
    "    model.add(PReLU())\n",
    "    model.add(BatchNormalization())\n",
    "    model.add(Dropout(0.4))\n",
    "        \n",
    "    model.add(Dense(200, init = 'he_normal'))\n",
    "    model.add(PReLU())\n",
    "    model.add(BatchNormalization())    \n",
    "    model.add(Dropout(0.2))\n",
    "    \n",
    "    model.add(Dense(100, init = 'he_normal'))\n",
    "    model.add(PReLU())\n",
    "    model.add(BatchNormalization())    \n",
    "    model.add(Dropout(0.2))\n",
    "    \n",
    "    model.add(Dense(50, init = 'he_normal'))\n",
    "    model.add(PReLU())\n",
    "    model.add(BatchNormalization())    \n",
    "    model.add(Dropout(0.2))\n",
    "    \n",
    "    model.add(Dense(1, init = 'he_normal'))\n",
    "    model.compile(loss = 'mae', optimizer = 'adadelta',metrics=[mae])\n",
    "    return(model)\n",
    "```"
   ]
  },
  {
   "cell_type": "markdown",
   "metadata": {
    "slideshow": {
     "slide_type": "slide"
    }
   },
   "source": [
    "## Neural Networks -Training and tuning NN. \n",
    "\n",
    "- Each fold still required ~ 33 minutes approx which also made it very hard to iterate different features. \n",
    "\n",
    "- One simple improvement (or quick win) is to bag the neural networks. \n",
    "\n",
    "- However with my mac book pro, it would still take (40\\*55\\*10 = 22000 seconds) 6.1 hours just for training one model alone! \n",
    "\n",
    "- Bagging it 10 times would take close to 3 days which is roughly what the fourms reported. \n",
    "\n",
    "- Time is not on my side!\n",
    "\n"
   ]
  },
  {
   "cell_type": "markdown",
   "metadata": {
    "slideshow": {
     "slide_type": "slide"
    }
   },
   "source": [
    "## Neural Networks - Training NN on AWS (CUDA) \n",
    "\n",
    "- This was about 10-12 remaining days into the competition.\n",
    "- No choice but to learn how to set up GPU instances on AWS. (Spend slightly over a day to figured it out) \n",
    "- Wrote my own small tutorial [here](https://github.com/Freedom89/aws_configure/blob/master/AWS_ec2_deep_learning_stack.md).\n",
    "\n",
    "\n",
    "## Huge Mistake (Oversight)\n",
    "\n",
    "After setting up Theano and CUDA with CUDNN, i forgot to set the [cnmem] parameter.\n",
    "\n",
    "What it does essentially it forces the system to allocate the gpu memory to the application you are using. Below is basically a summary of run-times:\n",
    "\n",
    "|Type|Mac|AWS C4.6x|Theano|Theano w cnmem|\n",
    "|---|---|---|---|---|---|\n",
    "|Time|40-44|24-28|18|12|\n",
    "\n"
   ]
  },
  {
   "cell_type": "markdown",
   "metadata": {
    "slideshow": {
     "slide_type": "slide"
    }
   },
   "source": [
    "## Neural Networks - Some Tricks with NN\n",
    "\n",
    "- In XGB, you have\n",
    "  - `early_stopping_rounds = value`\n",
    "  - `clf.predict(d_valid, ntree_limit=clf.best_ntree_limit)`\n",
    "  \n",
    "- Could you do the same with Neural Networks?\n",
    " \n",
    " \n",
    "- Note that if you use early stopping you could be overfitting to the validation data and hence the test set. "
   ]
  },
  {
   "cell_type": "markdown",
   "metadata": {
    "slideshow": {
     "slide_type": "slide"
    }
   },
   "source": [
    "## Neural Networks - Early Stopping of Neural Networks \n",
    "\n",
    "Its easy!\n",
    "\n",
    "```python\n",
    "\n",
    "model = nn_model()\n",
    "\n",
    "callsback_list = [EarlyStopping(patience=10), \\\n",
    "                  ModelCheckpoint('keras-regressor-' + str(i+1) +'_'+ str(j+1) + '.check',\\\n",
    "                  monitor='val_loss', save_best_only=True, verbose=0)]\n",
    "\n",
    "fit = model.fit_generator(generator = batch_generator(xtr, ytr, 128, True),\n",
    "                          nb_epoch = nepochs,\n",
    "                          samples_per_epoch = xtr.shape[0],\n",
    "                          verbose = 0,\n",
    "                          validation_data=(xte.todense(),yte),\n",
    "                          callbacks=callsback_list)       \n",
    "\n",
    "fit = load_model('keras-regressor-' + str(i+1) + '_'+ str(j+1) + '.check')\n",
    "```\n",
    "        \n"
   ]
  },
  {
   "cell_type": "markdown",
   "metadata": {
    "slideshow": {
     "slide_type": "slide"
    }
   },
   "source": [
    "## Results so far\n",
    "\n",
    "- With simple averaging / using leaderboard as a feedback, i got into top 5%. \n",
    "- With that, i changed my goal to top 5%! \n",
    "- I needed more safety net to ensure that i would be in the top 5% \n",
    "- Additionally, i got kicked out of top 5% in no time at all. \n",
    "\n",
    "## Side note\n",
    "\n",
    "- With the best submission of this approach, i would have gotten rank 276 which barely made it to top 10%.\n",
    "- There were a sudden surge of experts entering the competition (as an earlier one ended). \n",
    "- Possibly other factors as people started stacking their models. \n",
    "\n"
   ]
  },
  {
   "cell_type": "markdown",
   "metadata": {
    "slideshow": {
     "slide_type": "slide"
    }
   },
   "source": [
    "# Stacking"
   ]
  },
  {
   "cell_type": "markdown",
   "metadata": {
    "slideshow": {
     "slide_type": "slide"
    }
   },
   "source": [
    "## Stacking - Horrors! \n",
    "\n",
    "The moment i decided to do stacking (with 7days remaining), i realized i do not have my out-of-fold predictions.\n",
    "\n",
    "For those of you who are not familar with stacking, here is a high level idea:\n",
    "\n",
    "* Take your data set, split into n-folds.\n",
    "* Train your model with (n-1) folds and predict on the **remaining fold (out of bag)** and the test set. \n",
    "* Combine (stack) the predictions on the remaining folds \n",
    "* Average the predictions for the test set.\n",
    "* These will form the meta-features for your second level modeling, which is stacking.\n",
    "\n",
    "#### Thus, i had to re-train all my previous models, and one additional random forest and extra trees each with out of bag predictions!\n",
    "\n",
    "* I also trained a few other models, such as Neural Network without log-transform"
   ]
  },
  {
   "cell_type": "markdown",
   "metadata": {
    "slideshow": {
     "slide_type": "slide"
    }
   },
   "source": [
    "## Stacking - Mistakes! \n",
    "\n",
    "* As my folds were very different in terms of cv-score, i had to use early stopping. \n",
    "* Try to make cv-scores across folds more consistent. (It turns out that it did not help much, and i still had descent results) \n",
    "* Majority of the errors came from data points which has high target values, etc 9000 but model predicts 5000 which contributed significantly to the MAE.\n",
    "\n"
   ]
  },
  {
   "cell_type": "markdown",
   "metadata": {
    "slideshow": {
     "slide_type": "slide"
    }
   },
   "source": [
    "## Stacking - Simple Weighted Average\n",
    "\n",
    "Combine all your meta-features to one data frame. [Notebook here](https://github.com/Freedom89/Allstate_kaggle/blob/master/second_level_models/combine_data.ipynb)\n",
    "\n"
   ]
  },
  {
   "cell_type": "code",
   "execution_count": 17,
   "metadata": {
    "collapsed": false
   },
   "outputs": [
    {
     "data": {
      "text/html": [
       "<div>\n",
       "<table border=\"1\" class=\"dataframe\">\n",
       "  <thead>\n",
       "    <tr style=\"text-align: right;\">\n",
       "      <th></th>\n",
       "      <th>0</th>\n",
       "      <th>1</th>\n",
       "      <th>2</th>\n",
       "      <th>3</th>\n",
       "      <th>4</th>\n",
       "      <th>5</th>\n",
       "      <th>6</th>\n",
       "      <th>7</th>\n",
       "      <th>8</th>\n",
       "      <th>9</th>\n",
       "      <th>10</th>\n",
       "      <th>11</th>\n",
       "    </tr>\n",
       "  </thead>\n",
       "  <tbody>\n",
       "    <tr>\n",
       "      <th>0</th>\n",
       "      <td>1993.587402</td>\n",
       "      <td>1991.582031</td>\n",
       "      <td>2040.753906</td>\n",
       "      <td>2037.662842</td>\n",
       "      <td>2011.458252</td>\n",
       "      <td>2031.191162</td>\n",
       "      <td>1709.747961</td>\n",
       "      <td>1863.231165</td>\n",
       "      <td>1867.304663</td>\n",
       "      <td>1817.927966</td>\n",
       "      <td>2177.778654</td>\n",
       "      <td>2059.030370</td>\n",
       "    </tr>\n",
       "    <tr>\n",
       "      <th>1</th>\n",
       "      <td>1785.814331</td>\n",
       "      <td>1760.319946</td>\n",
       "      <td>1782.887695</td>\n",
       "      <td>1801.068604</td>\n",
       "      <td>1761.099731</td>\n",
       "      <td>1786.076660</td>\n",
       "      <td>1472.165295</td>\n",
       "      <td>1518.536694</td>\n",
       "      <td>1465.007471</td>\n",
       "      <td>1472.942126</td>\n",
       "      <td>1884.687448</td>\n",
       "      <td>1700.372436</td>\n",
       "    </tr>\n",
       "    <tr>\n",
       "      <th>2</th>\n",
       "      <td>4657.417480</td>\n",
       "      <td>4471.034180</td>\n",
       "      <td>4556.829590</td>\n",
       "      <td>4361.276367</td>\n",
       "      <td>4409.905762</td>\n",
       "      <td>4420.834961</td>\n",
       "      <td>4131.383081</td>\n",
       "      <td>3913.994287</td>\n",
       "      <td>3883.456030</td>\n",
       "      <td>3798.080249</td>\n",
       "      <td>4037.687796</td>\n",
       "      <td>3863.859438</td>\n",
       "    </tr>\n",
       "    <tr>\n",
       "      <th>3</th>\n",
       "      <td>1038.933716</td>\n",
       "      <td>1063.732910</td>\n",
       "      <td>1086.600220</td>\n",
       "      <td>1084.421143</td>\n",
       "      <td>1074.311401</td>\n",
       "      <td>1078.842163</td>\n",
       "      <td>1038.551477</td>\n",
       "      <td>987.047913</td>\n",
       "      <td>952.744666</td>\n",
       "      <td>1040.312915</td>\n",
       "      <td>1134.017057</td>\n",
       "      <td>1163.973155</td>\n",
       "    </tr>\n",
       "    <tr>\n",
       "      <th>4</th>\n",
       "      <td>3166.384033</td>\n",
       "      <td>3289.858887</td>\n",
       "      <td>3324.271240</td>\n",
       "      <td>3269.665527</td>\n",
       "      <td>3485.719971</td>\n",
       "      <td>3238.185791</td>\n",
       "      <td>3147.510742</td>\n",
       "      <td>3263.374414</td>\n",
       "      <td>3241.944531</td>\n",
       "      <td>3269.075391</td>\n",
       "      <td>3307.724160</td>\n",
       "      <td>2948.707217</td>\n",
       "    </tr>\n",
       "  </tbody>\n",
       "</table>\n",
       "</div>"
      ],
      "text/plain": [
       "             0            1            2            3            4  \\\n",
       "0  1993.587402  1991.582031  2040.753906  2037.662842  2011.458252   \n",
       "1  1785.814331  1760.319946  1782.887695  1801.068604  1761.099731   \n",
       "2  4657.417480  4471.034180  4556.829590  4361.276367  4409.905762   \n",
       "3  1038.933716  1063.732910  1086.600220  1084.421143  1074.311401   \n",
       "4  3166.384033  3289.858887  3324.271240  3269.665527  3485.719971   \n",
       "\n",
       "             5            6            7            8            9  \\\n",
       "0  2031.191162  1709.747961  1863.231165  1867.304663  1817.927966   \n",
       "1  1786.076660  1472.165295  1518.536694  1465.007471  1472.942126   \n",
       "2  4420.834961  4131.383081  3913.994287  3883.456030  3798.080249   \n",
       "3  1078.842163  1038.551477   987.047913   952.744666  1040.312915   \n",
       "4  3238.185791  3147.510742  3263.374414  3241.944531  3269.075391   \n",
       "\n",
       "            10           11  \n",
       "0  2177.778654  2059.030370  \n",
       "1  1884.687448  1700.372436  \n",
       "2  4037.687796  3863.859438  \n",
       "3  1134.017057  1163.973155  \n",
       "4  3307.724160  2948.707217  "
      ]
     },
     "execution_count": 17,
     "metadata": {},
     "output_type": "execute_result"
    }
   ],
   "source": [
    "from sklearn.metrics import mean_absolute_error\n",
    "train_x = pd.read_csv(\"../kaggle_1/train_second_level_model.csv\")\n",
    "train_x.head(5)"
   ]
  },
  {
   "cell_type": "markdown",
   "metadata": {
    "slideshow": {
     "slide_type": "slide"
    }
   },
   "source": [
    "## Stacking - Simple Weighted Average (cont)\n",
    "\n",
    "Printing the loss for each model:"
   ]
  },
  {
   "cell_type": "code",
   "execution_count": 18,
   "metadata": {
    "collapsed": false
   },
   "outputs": [
    {
     "name": "stdout",
     "output_type": "stream",
     "text": [
      "1124.2522893\n",
      "1125.11043344\n",
      "1124.73870933\n",
      "1125.09915962\n",
      "1124.87963343\n",
      "1124.45611729\n",
      "1130.58667325\n",
      "1130.40016748\n",
      "1131.39946641\n",
      "1132.36796706\n",
      "1190.29358276\n",
      "1186.37357485\n"
     ]
    }
   ],
   "source": [
    "for i in range(train_x.shape[1]):\n",
    "    print mean_absolute_error(train_x.ix[:,i],data.loss)"
   ]
  },
  {
   "cell_type": "markdown",
   "metadata": {
    "slideshow": {
     "slide_type": "slide"
    }
   },
   "source": [
    "## Stacking - Simple Weighted Average (cont)\n",
    "\n",
    "Simple Averaging:\n",
    "\n",
    "(But previously i was using leaderboard feedback)"
   ]
  },
  {
   "cell_type": "code",
   "execution_count": 19,
   "metadata": {
    "collapsed": false
   },
   "outputs": [
    {
     "name": "stdout",
     "output_type": "stream",
     "text": [
      "1119.97406917\n"
     ]
    }
   ],
   "source": [
    "ratio = 0.5\n",
    "print mean_absolute_error(ratio*train_x.ix[:,0]+(1-ratio)*train_x.ix[:,7],data.loss)"
   ]
  },
  {
   "cell_type": "code",
   "execution_count": 20,
   "metadata": {
    "collapsed": false
   },
   "outputs": [
    {
     "name": "stdout",
     "output_type": "stream",
     "text": [
      "1119.7183677\n"
     ]
    }
   ],
   "source": [
    "ratio = 0.65\n",
    "print mean_absolute_error(ratio*train_x.ix[:,0]+(1-ratio)*train_x.ix[:,7],data.loss)"
   ]
  },
  {
   "cell_type": "code",
   "execution_count": 21,
   "metadata": {
    "collapsed": false
   },
   "outputs": [
    {
     "name": "stdout",
     "output_type": "stream",
     "text": [
      "1120.3049399\n"
     ]
    }
   ],
   "source": [
    "ratio = 0.75\n",
    "print mean_absolute_error(ratio*train_x.ix[:,0]+(1-ratio)*train_x.ix[:,7],data.loss)"
   ]
  },
  {
   "cell_type": "markdown",
   "metadata": {
    "slideshow": {
     "slide_type": "slide"
    }
   },
   "source": [
    "## Stacking - Simple Weighted Average (cont)\n",
    "\n",
    "Finally lets look at a way of finding optimal ratio for multiple inputs:\n",
    "\n",
    "Define the following functions"
   ]
  },
  {
   "cell_type": "code",
   "execution_count": 22,
   "metadata": {
    "collapsed": true
   },
   "outputs": [],
   "source": [
    "from scipy.optimize import minimize\n",
    "\n",
    "def mae_func(weights):\n",
    "    ''' scipy minimize will pass the weights as a numpy array '''\n",
    "    final_prediction = 0\n",
    "    for weight, prediction in zip(weights, predictions):\n",
    "            final_prediction += weight*prediction\n",
    "\n",
    "    return mean_absolute_error(Y_values, final_prediction)\n",
    "\n",
    "Y_values = data['loss'].values\n",
    "predictions = []\n",
    "for i in range(11):\n",
    "    predictions.append(train_x.ix[:,i])\n",
    "lls = []\n",
    "wghts = []"
   ]
  },
  {
   "cell_type": "code",
   "execution_count": 23,
   "metadata": {
    "collapsed": true,
    "slideshow": {
     "slide_type": "skip"
    }
   },
   "outputs": [],
   "source": [
    "from datetime import datetime\n",
    "\n",
    "def timer(start_time=None):\n",
    "    if not start_time:\n",
    "        start_time = datetime.now()\n",
    "        return start_time\n",
    "    elif start_time:\n",
    "        thour, temp_sec = divmod((datetime.now() - start_time).total_seconds(), 3600)\n",
    "        tmin, tsec = divmod(temp_sec, 60)\n",
    "        print(' Time taken: %i hours %i minutes and %s seconds.' % (thour, tmin, round(tsec, 2)))"
   ]
  },
  {
   "cell_type": "markdown",
   "metadata": {
    "slideshow": {
     "slide_type": "slide"
    }
   },
   "source": [
    "## Stacking - Simple Weighted Average (cont)\n",
    "\n",
    "Finding the optimal weights\n"
   ]
  },
  {
   "cell_type": "code",
   "execution_count": 24,
   "metadata": {
    "collapsed": false,
    "slideshow": {
     "slide_type": "-"
    }
   },
   "outputs": [
    {
     "name": "stdout",
     "output_type": "stream",
     "text": [
      "\n",
      " Ensemble Score: 1118.46592553\n",
      "\n",
      " Best Weights: [ 0.1317671   0.05049913  0.09826599  0.12918516  0.0616241   0.11857319\n",
      "  0.06449542  0.09522439  0.16919281  0.09825817  0.        ]\n",
      " Time taken: 0 hours 0 minutes and 13.92 seconds.\n"
     ]
    }
   ],
   "source": [
    "start_time = timer(None)\n",
    "for i in range(5):\n",
    "    starting_values = np.random.uniform(size=len(predictions))\n",
    "    bounds = [(0,1)]*len(predictions)\n",
    "    res = minimize(mae_func, starting_values, method='L-BFGS-B',\n",
    "                   bounds=bounds, options={'disp': False, 'maxiter': 10})\n",
    "    lls.append(res['fun'])\n",
    "    wghts.append(res['x'])\n",
    "    # Uncomment the next line if you want to see the weights and scores calculated in real time\n",
    "    #print('Weights: {weights}  Score: {score}'.format(weights=res['x'], score=res['fun']))\n",
    "bestSC = np.min(lls)\n",
    "bestWght = wghts[np.argmin(lls)]\n",
    "print('\\n Ensemble Score: {best_score}'.format(best_score=bestSC))\n",
    "print('\\n Best Weights: {weights}'.format(weights=bestWght))\n",
    "timer(start_time)"
   ]
  },
  {
   "cell_type": "markdown",
   "metadata": {
    "slideshow": {
     "slide_type": "slide"
    }
   },
   "source": [
    "## Results so far\n",
    "- By now, i was hovering around 5% in the public leaderboard with 2 days left.\n",
    "- There was no guarantee i would remain in the top 5% in the private leader board.\n",
    "- To be precise, this score placed me at position 135 at the public leaderboard - borderline top 5%\n",
    "- Required more safety Net! \n",
    "\n",
    "It turns out that with the simple weighted average model i would have been placed 104, close to the top 3%. "
   ]
  },
  {
   "cell_type": "markdown",
   "metadata": {
    "slideshow": {
     "slide_type": "slide"
    }
   },
   "source": [
    "## Stacking - Unfortunately...\n",
    "\n",
    "- I tried linear regression, but the results is worse than the weighted average approach.\n",
    "- It made sense, as linear regression uses MSE rather than MAE. \n",
    "\n",
    "## XGB to the rescue perhaps?\n",
    "\n",
    "- **NOPE!**\n",
    "- XGB overfitted to my single best xgb model instead. \n"
   ]
  },
  {
   "cell_type": "markdown",
   "metadata": {
    "slideshow": {
     "slide_type": "slide"
    }
   },
   "source": [
    "## Stacking - With (slightly more than) one day to go, \n",
    "\n",
    "I decided to try Neural Networks instead.\n",
    "\n",
    "The best local cv with the weighted average was `1118.345`\n",
    "\n",
    "Here is the output with my first neural network:\n",
    "\n",
    "```\n",
    "('Fold ', 1, '- MAE:', 1117.5260825665521)\n",
    "('Fold ', 2, '- MAE:', 1113.2272453103922)\n",
    "('Fold ', 3, '- MAE:', 1117.1135764027533)\n",
    "('Fold ', 4, '- MAE:', 1121.9982577768997)\n",
    "('Fold ', 5, '- MAE:', 1119.6595219061744)\n",
    "('Total - MAE:', 1117.9049057391971)\n",
    "```\n",
    "**Finally! Some improvement! **\n",
    "\n",
    "And the private LB would have given me position 53! \n",
    "\n",
    "Clearly i am onto something, right? **No.**"
   ]
  },
  {
   "cell_type": "markdown",
   "metadata": {
    "slideshow": {
     "slide_type": "slide"
    }
   },
   "source": [
    "## Stacking - Whats are the first few things to try?\n",
    "\n",
    "1. Tuning \n",
    " - Luckily with only 11 features, it is relatively fast (~40minutes) for each model to try new params.\n",
    " - Unfortunately, no matter what i did, i got results worse than my weighted average cv score. \n",
    " - With no choice, i resorted to bagging\n",
    "2. Bagging\n",
    " - Manage to achieve a lower CV score, lower public score, but a worst private score. \n",
    " \n",
    "So i guess, sometimes **luck** does play a part. "
   ]
  },
  {
   "cell_type": "markdown",
   "metadata": {
    "slideshow": {
     "slide_type": "slide"
    }
   },
   "source": [
    "## Stacking - Finally.. \n",
    "\n",
    "i combine my keras (out of bag) results (consider them third level modeling) and combine with my second level models and ran the weighted average codes. \n",
    "\n",
    "Below is a summary of what i achieved: \n",
    "\n",
    "|            | Single Keras | W. avg with single NN | Bagged 5 Keras | W.avg  both NN |\n",
    "| :--------- | :------------------ | :------------------------- | :------------------ | :----------------------------------- |\n",
    "| Local CV   | 1117.90490574       | 1117.77760897              | 1117.88037992       | 1117.7181697                        |\n",
    "| Public LB  | 1100.90013          | 1100.87763                 | 1100.88155          | 1100.86946                           |\n",
    "| Private LB | 1112.84611          | 1112.77244                 | 1112.93370          | 1112.73936                           |\n",
    "\n",
    "What is interesting is that the weighted average with my single Neural Netwrok outperformed the one that is bagged 5 times. \n",
    "\n",
    "I decided to run weighted average with both single and bagged Neural Network. Turns out i had best Cv results across all measures.\n",
    "\n",
    "Final position - 46! "
   ]
  },
  {
   "cell_type": "markdown",
   "metadata": {
    "slideshow": {
     "slide_type": "slide"
    }
   },
   "source": [
    "# END\n",
    "\n",
    "# Hope you have enjoyed it! "
   ]
  },
  {
   "cell_type": "markdown",
   "metadata": {
    "slideshow": {
     "slide_type": "slide"
    }
   },
   "source": [
    "# Questions?"
   ]
  }
 ],
 "metadata": {
  "celltoolbar": "Slideshow",
  "kernelspec": {
   "display_name": "Python 2",
   "language": "python",
   "name": "python2"
  },
  "language_info": {
   "codemirror_mode": {
    "name": "ipython",
    "version": 2
   },
   "file_extension": ".py",
   "mimetype": "text/x-python",
   "name": "python",
   "nbconvert_exporter": "python",
   "pygments_lexer": "ipython2",
   "version": "2.7.11"
  }
 },
 "nbformat": 4,
 "nbformat_minor": 0
}
